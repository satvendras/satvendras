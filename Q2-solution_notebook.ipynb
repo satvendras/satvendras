{
  "nbformat": 4,
  "nbformat_minor": 0,
  "metadata": {
    "kernelspec": {
      "display_name": "Python 3",
      "language": "python",
      "name": "python3"
    },
    "language_info": {
      "codemirror_mode": {
        "name": "ipython",
        "version": 3
      },
      "file_extension": ".py",
      "mimetype": "text/x-python",
      "name": "python",
      "nbconvert_exporter": "python",
      "pygments_lexer": "ipython3",
      "version": "3.6.8"
    },
    "toc": {
      "base_numbering": 1,
      "nav_menu": {},
      "number_sections": true,
      "sideBar": true,
      "skip_h1_title": false,
      "title_cell": "Table of Contents",
      "title_sidebar": "Contents",
      "toc_cell": false,
      "toc_position": {},
      "toc_section_display": true,
      "toc_window_display": false
    },
    "colab": {
      "name": "Sentiment140.ipynb",
      "provenance": [],
      "collapsed_sections": []
    }
  },
  "cells": [
    {
      "cell_type": "markdown",
      "metadata": {
        "id": "FStsJdBkcEqN"
      },
      "source": [
        "**Question No.2**. NLP Dataset: Sentiment Analysis dataset - 1.6 Million tweets. "
      ]
    },
    {
      "cell_type": "markdown",
      "metadata": {
        "id": "zsqMEUWhcQq9"
      },
      "source": [
        "**Solution Notebook :** "
      ]
    },
    {
      "cell_type": "markdown",
      "metadata": {
        "id": "gJACHYlelhRc"
      },
      "source": [
        "> # Import Libraries/Dataset"
      ]
    },
    {
      "cell_type": "code",
      "metadata": {
        "colab": {
          "base_uri": "https://localhost:8080/"
        },
        "id": "d59imq4d6P91",
        "outputId": "9e9b1585-c081-4ffd-d938-dcd17dba7142"
      },
      "source": [
        "pip install -q -U keras-tuner"
      ],
      "execution_count": 1,
      "outputs": [
        {
          "output_type": "stream",
          "text": [
            "\u001b[?25l\r\u001b[K     |█████▏                          | 10kB 18.8MB/s eta 0:00:01\r\u001b[K     |██████████▍                     | 20kB 15.0MB/s eta 0:00:01\r\u001b[K     |███████████████▋                | 30kB 9.9MB/s eta 0:00:01\r\u001b[K     |████████████████████▉           | 40kB 8.3MB/s eta 0:00:01\r\u001b[K     |██████████████████████████      | 51kB 4.3MB/s eta 0:00:01\r\u001b[K     |███████████████████████████████▎| 61kB 4.9MB/s eta 0:00:01\r\u001b[K     |████████████████████████████████| 71kB 3.8MB/s \n",
            "\u001b[?25h  Building wheel for keras-tuner (setup.py) ... \u001b[?25l\u001b[?25hdone\n",
            "  Building wheel for terminaltables (setup.py) ... \u001b[?25l\u001b[?25hdone\n"
          ],
          "name": "stdout"
        }
      ]
    },
    {
      "cell_type": "code",
      "metadata": {
        "colab": {
          "base_uri": "https://localhost:8080/"
        },
        "id": "RdanLCT_mtjG",
        "outputId": "383788d4-5f34-4887-fb65-768d9006b984"
      },
      "source": [
        "try:\n",
        "  %tensorflow_version 2.x  # Colab only.\n",
        "except Exception:\n",
        "  pass\n",
        "\n",
        "import tensorflow as tf\n",
        "print(tf.__version__)"
      ],
      "execution_count": 2,
      "outputs": [
        {
          "output_type": "stream",
          "text": [
            "`%tensorflow_version` only switches the major version: 1.x or 2.x.\n",
            "You set: `2.x  # Colab only.`. This will be interpreted as: `2.x`.\n",
            "\n",
            "\n",
            "TensorFlow 2.x selected.\n",
            "2.4.1\n"
          ],
          "name": "stdout"
        }
      ]
    },
    {
      "cell_type": "code",
      "metadata": {
        "id": "xcGnUtT7mf_O"
      },
      "source": [
        "# LOADING THE NECESSARY LIBRARIES\n",
        "import numpy as np\n",
        "import pandas as pd\n",
        "import seaborn as sns\n",
        "import matplotlib.pyplot as plt\n",
        "import plotly.express as px\n",
        "\n",
        "import nltk\n",
        "from sklearn.feature_extraction.text import CountVectorizer\n",
        "from nltk.corpus import stopwords\n",
        "from wordcloud import WordCloud,STOPWORDS\n",
        "from nltk.stem import WordNetLemmatizer\n",
        "from nltk.tokenize import word_tokenize\n",
        "from bs4 import BeautifulSoup\n",
        "import re,string,unicodedata\n",
        "from sklearn.metrics import classification_report,confusion_matrix,accuracy_score,f1_score\n",
        "from sklearn.model_selection import train_test_split\n",
        "from string import punctuation\n",
        "from nltk import pos_tag\n",
        "from nltk.corpus import wordnet\n",
        "\n",
        "\n",
        "import keras\n",
        "import tensorflow_hub as hub\n",
        "from tensorflow import keras \n",
        "import kerastuner as kt\n",
        "from keras import backend as K\n",
        "from tensorflow.keras.preprocessing import sequence\n",
        "from tensorflow.keras.preprocessing.text import Tokenizer\n",
        "from tensorflow.keras.preprocessing.sequence import pad_sequences\n",
        "from tensorflow.keras.optimizers import Adam\n",
        "from tensorflow.keras.layers import LSTM, Activation, Dense, Dropout, Input, Embedding\n",
        "from tensorflow.keras.optimizers import RMSprop\n",
        "from keras.models import Model\n",
        "#import transformers"
      ],
      "execution_count": 3,
      "outputs": []
    },
    {
      "cell_type": "code",
      "metadata": {
        "colab": {
          "base_uri": "https://localhost:8080/"
        },
        "id": "aGwt9aJTnKED",
        "outputId": "6a2e3df3-c6c3-44d1-ead1-0ec8eecbd1b1"
      },
      "source": [
        "# Make data directory if it doesn't exist\n",
        "!mkdir -p data\n",
        "!wget -nc https://nyc3.digitaloceanspaces.com/ml-files-distro/v1/sentiment-analysis-is-bad/data/training.1600000.processed.noemoticon.csv.zip -P data\n",
        "!unzip -n -d data data/training.1600000.processed.noemoticon.csv.zip"
      ],
      "execution_count": 4,
      "outputs": [
        {
          "output_type": "stream",
          "text": [
            "--2021-05-21 05:17:55--  https://nyc3.digitaloceanspaces.com/ml-files-distro/v1/sentiment-analysis-is-bad/data/training.1600000.processed.noemoticon.csv.zip\n",
            "Resolving nyc3.digitaloceanspaces.com (nyc3.digitaloceanspaces.com)... 162.243.189.2\n",
            "Connecting to nyc3.digitaloceanspaces.com (nyc3.digitaloceanspaces.com)|162.243.189.2|:443... connected.\n",
            "HTTP request sent, awaiting response... 200 OK\n",
            "Length: 85088192 (81M) [application/zip]\n",
            "Saving to: ‘data/training.1600000.processed.noemoticon.csv.zip’\n",
            "\n",
            "training.1600000.pr 100%[===================>]  81.15M  14.6MB/s    in 6.9s    \n",
            "\n",
            "2021-05-21 05:18:02 (11.8 MB/s) - ‘data/training.1600000.processed.noemoticon.csv.zip’ saved [85088192/85088192]\n",
            "\n",
            "Archive:  data/training.1600000.processed.noemoticon.csv.zip\n",
            "  inflating: data/training.1600000.processed.noemoticon.csv  \n"
          ],
          "name": "stdout"
        }
      ]
    },
    {
      "cell_type": "code",
      "metadata": {
        "id": "0gxRFR73FxtV"
      },
      "source": [
        "df = pd.read_csv(\"data/training.1600000.processed.noemoticon.csv\",\n",
        "                names=['polarity', 'id', 'date', 'query', 'user', 'text'],\n",
        "                encoding='latin-1')"
      ],
      "execution_count": 5,
      "outputs": []
    },
    {
      "cell_type": "markdown",
      "metadata": {
        "id": "Iy4G3MmpGk7S"
      },
      "source": [
        "# Data Visualization and augmentation \n",
        "\n",
        "1. Print at least two tweet from each class of the dataset, for a sanity check that labels match the text.\n",
        "2. Plot a bar graph of class distribution in a dataset. Each bar depicts the number of tweets belonging to a particular sentiment. (recommended - matplotlib/seaborn libraries)\n",
        "3. Any other visualizations that seem appropriate for this problem are encouraged but not necessary, for the points.\n",
        "4. Print the shapes of train and test data."
      ]
    },
    {
      "cell_type": "code",
      "metadata": {
        "colab": {
          "base_uri": "https://localhost:8080/",
          "height": 359
        },
        "id": "2eBN9U2in0sy",
        "outputId": "43127277-422b-4d1a-818a-d15317524d9b"
      },
      "source": [
        "df.head(10)"
      ],
      "execution_count": 6,
      "outputs": [
        {
          "output_type": "execute_result",
          "data": {
            "text/html": [
              "<div>\n",
              "<style scoped>\n",
              "    .dataframe tbody tr th:only-of-type {\n",
              "        vertical-align: middle;\n",
              "    }\n",
              "\n",
              "    .dataframe tbody tr th {\n",
              "        vertical-align: top;\n",
              "    }\n",
              "\n",
              "    .dataframe thead th {\n",
              "        text-align: right;\n",
              "    }\n",
              "</style>\n",
              "<table border=\"1\" class=\"dataframe\">\n",
              "  <thead>\n",
              "    <tr style=\"text-align: right;\">\n",
              "      <th></th>\n",
              "      <th>polarity</th>\n",
              "      <th>id</th>\n",
              "      <th>date</th>\n",
              "      <th>query</th>\n",
              "      <th>user</th>\n",
              "      <th>text</th>\n",
              "    </tr>\n",
              "  </thead>\n",
              "  <tbody>\n",
              "    <tr>\n",
              "      <th>0</th>\n",
              "      <td>0</td>\n",
              "      <td>1467810369</td>\n",
              "      <td>Mon Apr 06 22:19:45 PDT 2009</td>\n",
              "      <td>NO_QUERY</td>\n",
              "      <td>_TheSpecialOne_</td>\n",
              "      <td>@switchfoot http://twitpic.com/2y1zl - Awww, t...</td>\n",
              "    </tr>\n",
              "    <tr>\n",
              "      <th>1</th>\n",
              "      <td>0</td>\n",
              "      <td>1467810672</td>\n",
              "      <td>Mon Apr 06 22:19:49 PDT 2009</td>\n",
              "      <td>NO_QUERY</td>\n",
              "      <td>scotthamilton</td>\n",
              "      <td>is upset that he can't update his Facebook by ...</td>\n",
              "    </tr>\n",
              "    <tr>\n",
              "      <th>2</th>\n",
              "      <td>0</td>\n",
              "      <td>1467810917</td>\n",
              "      <td>Mon Apr 06 22:19:53 PDT 2009</td>\n",
              "      <td>NO_QUERY</td>\n",
              "      <td>mattycus</td>\n",
              "      <td>@Kenichan I dived many times for the ball. Man...</td>\n",
              "    </tr>\n",
              "    <tr>\n",
              "      <th>3</th>\n",
              "      <td>0</td>\n",
              "      <td>1467811184</td>\n",
              "      <td>Mon Apr 06 22:19:57 PDT 2009</td>\n",
              "      <td>NO_QUERY</td>\n",
              "      <td>ElleCTF</td>\n",
              "      <td>my whole body feels itchy and like its on fire</td>\n",
              "    </tr>\n",
              "    <tr>\n",
              "      <th>4</th>\n",
              "      <td>0</td>\n",
              "      <td>1467811193</td>\n",
              "      <td>Mon Apr 06 22:19:57 PDT 2009</td>\n",
              "      <td>NO_QUERY</td>\n",
              "      <td>Karoli</td>\n",
              "      <td>@nationwideclass no, it's not behaving at all....</td>\n",
              "    </tr>\n",
              "    <tr>\n",
              "      <th>5</th>\n",
              "      <td>0</td>\n",
              "      <td>1467811372</td>\n",
              "      <td>Mon Apr 06 22:20:00 PDT 2009</td>\n",
              "      <td>NO_QUERY</td>\n",
              "      <td>joy_wolf</td>\n",
              "      <td>@Kwesidei not the whole crew</td>\n",
              "    </tr>\n",
              "    <tr>\n",
              "      <th>6</th>\n",
              "      <td>0</td>\n",
              "      <td>1467811592</td>\n",
              "      <td>Mon Apr 06 22:20:03 PDT 2009</td>\n",
              "      <td>NO_QUERY</td>\n",
              "      <td>mybirch</td>\n",
              "      <td>Need a hug</td>\n",
              "    </tr>\n",
              "    <tr>\n",
              "      <th>7</th>\n",
              "      <td>0</td>\n",
              "      <td>1467811594</td>\n",
              "      <td>Mon Apr 06 22:20:03 PDT 2009</td>\n",
              "      <td>NO_QUERY</td>\n",
              "      <td>coZZ</td>\n",
              "      <td>@LOLTrish hey  long time no see! Yes.. Rains a...</td>\n",
              "    </tr>\n",
              "    <tr>\n",
              "      <th>8</th>\n",
              "      <td>0</td>\n",
              "      <td>1467811795</td>\n",
              "      <td>Mon Apr 06 22:20:05 PDT 2009</td>\n",
              "      <td>NO_QUERY</td>\n",
              "      <td>2Hood4Hollywood</td>\n",
              "      <td>@Tatiana_K nope they didn't have it</td>\n",
              "    </tr>\n",
              "    <tr>\n",
              "      <th>9</th>\n",
              "      <td>0</td>\n",
              "      <td>1467812025</td>\n",
              "      <td>Mon Apr 06 22:20:09 PDT 2009</td>\n",
              "      <td>NO_QUERY</td>\n",
              "      <td>mimismo</td>\n",
              "      <td>@twittera que me muera ?</td>\n",
              "    </tr>\n",
              "  </tbody>\n",
              "</table>\n",
              "</div>"
            ],
            "text/plain": [
              "   polarity  ...                                               text\n",
              "0         0  ...  @switchfoot http://twitpic.com/2y1zl - Awww, t...\n",
              "1         0  ...  is upset that he can't update his Facebook by ...\n",
              "2         0  ...  @Kenichan I dived many times for the ball. Man...\n",
              "3         0  ...    my whole body feels itchy and like its on fire \n",
              "4         0  ...  @nationwideclass no, it's not behaving at all....\n",
              "5         0  ...                      @Kwesidei not the whole crew \n",
              "6         0  ...                                        Need a hug \n",
              "7         0  ...  @LOLTrish hey  long time no see! Yes.. Rains a...\n",
              "8         0  ...               @Tatiana_K nope they didn't have it \n",
              "9         0  ...                          @twittera que me muera ? \n",
              "\n",
              "[10 rows x 6 columns]"
            ]
          },
          "metadata": {
            "tags": []
          },
          "execution_count": 6
        }
      ]
    },
    {
      "cell_type": "code",
      "metadata": {
        "id": "8NkDUoT3FYKf",
        "colab": {
          "base_uri": "https://localhost:8080/",
          "height": 297
        },
        "outputId": "d236cf82-eb42-4158-ab8d-9b3bef1dbb25"
      },
      "source": [
        "df.describe()"
      ],
      "execution_count": 7,
      "outputs": [
        {
          "output_type": "execute_result",
          "data": {
            "text/html": [
              "<div>\n",
              "<style scoped>\n",
              "    .dataframe tbody tr th:only-of-type {\n",
              "        vertical-align: middle;\n",
              "    }\n",
              "\n",
              "    .dataframe tbody tr th {\n",
              "        vertical-align: top;\n",
              "    }\n",
              "\n",
              "    .dataframe thead th {\n",
              "        text-align: right;\n",
              "    }\n",
              "</style>\n",
              "<table border=\"1\" class=\"dataframe\">\n",
              "  <thead>\n",
              "    <tr style=\"text-align: right;\">\n",
              "      <th></th>\n",
              "      <th>polarity</th>\n",
              "      <th>id</th>\n",
              "    </tr>\n",
              "  </thead>\n",
              "  <tbody>\n",
              "    <tr>\n",
              "      <th>count</th>\n",
              "      <td>1.600000e+06</td>\n",
              "      <td>1.600000e+06</td>\n",
              "    </tr>\n",
              "    <tr>\n",
              "      <th>mean</th>\n",
              "      <td>2.000000e+00</td>\n",
              "      <td>1.998818e+09</td>\n",
              "    </tr>\n",
              "    <tr>\n",
              "      <th>std</th>\n",
              "      <td>2.000001e+00</td>\n",
              "      <td>1.935761e+08</td>\n",
              "    </tr>\n",
              "    <tr>\n",
              "      <th>min</th>\n",
              "      <td>0.000000e+00</td>\n",
              "      <td>1.467810e+09</td>\n",
              "    </tr>\n",
              "    <tr>\n",
              "      <th>25%</th>\n",
              "      <td>0.000000e+00</td>\n",
              "      <td>1.956916e+09</td>\n",
              "    </tr>\n",
              "    <tr>\n",
              "      <th>50%</th>\n",
              "      <td>2.000000e+00</td>\n",
              "      <td>2.002102e+09</td>\n",
              "    </tr>\n",
              "    <tr>\n",
              "      <th>75%</th>\n",
              "      <td>4.000000e+00</td>\n",
              "      <td>2.177059e+09</td>\n",
              "    </tr>\n",
              "    <tr>\n",
              "      <th>max</th>\n",
              "      <td>4.000000e+00</td>\n",
              "      <td>2.329206e+09</td>\n",
              "    </tr>\n",
              "  </tbody>\n",
              "</table>\n",
              "</div>"
            ],
            "text/plain": [
              "           polarity            id\n",
              "count  1.600000e+06  1.600000e+06\n",
              "mean   2.000000e+00  1.998818e+09\n",
              "std    2.000001e+00  1.935761e+08\n",
              "min    0.000000e+00  1.467810e+09\n",
              "25%    0.000000e+00  1.956916e+09\n",
              "50%    2.000000e+00  2.002102e+09\n",
              "75%    4.000000e+00  2.177059e+09\n",
              "max    4.000000e+00  2.329206e+09"
            ]
          },
          "metadata": {
            "tags": []
          },
          "execution_count": 7
        }
      ]
    },
    {
      "cell_type": "markdown",
      "metadata": {
        "id": "Bt_-8mJ0GrcB"
      },
      "source": [
        "> Print at least two tweet from each class of the dataset, for a sanity check that labels match the text."
      ]
    },
    {
      "cell_type": "code",
      "metadata": {
        "colab": {
          "base_uri": "https://localhost:8080/",
          "height": 111
        },
        "id": "Bf-bcaVuGWv4",
        "outputId": "27ba07a6-46d1-4d8f-c69d-9dce7f2d3cd6"
      },
      "source": [
        "negative_sample=df[df['polarity'] == 0]\n",
        "negative_sample.iloc[:2]"
      ],
      "execution_count": 8,
      "outputs": [
        {
          "output_type": "execute_result",
          "data": {
            "text/html": [
              "<div>\n",
              "<style scoped>\n",
              "    .dataframe tbody tr th:only-of-type {\n",
              "        vertical-align: middle;\n",
              "    }\n",
              "\n",
              "    .dataframe tbody tr th {\n",
              "        vertical-align: top;\n",
              "    }\n",
              "\n",
              "    .dataframe thead th {\n",
              "        text-align: right;\n",
              "    }\n",
              "</style>\n",
              "<table border=\"1\" class=\"dataframe\">\n",
              "  <thead>\n",
              "    <tr style=\"text-align: right;\">\n",
              "      <th></th>\n",
              "      <th>polarity</th>\n",
              "      <th>id</th>\n",
              "      <th>date</th>\n",
              "      <th>query</th>\n",
              "      <th>user</th>\n",
              "      <th>text</th>\n",
              "    </tr>\n",
              "  </thead>\n",
              "  <tbody>\n",
              "    <tr>\n",
              "      <th>0</th>\n",
              "      <td>0</td>\n",
              "      <td>1467810369</td>\n",
              "      <td>Mon Apr 06 22:19:45 PDT 2009</td>\n",
              "      <td>NO_QUERY</td>\n",
              "      <td>_TheSpecialOne_</td>\n",
              "      <td>@switchfoot http://twitpic.com/2y1zl - Awww, t...</td>\n",
              "    </tr>\n",
              "    <tr>\n",
              "      <th>1</th>\n",
              "      <td>0</td>\n",
              "      <td>1467810672</td>\n",
              "      <td>Mon Apr 06 22:19:49 PDT 2009</td>\n",
              "      <td>NO_QUERY</td>\n",
              "      <td>scotthamilton</td>\n",
              "      <td>is upset that he can't update his Facebook by ...</td>\n",
              "    </tr>\n",
              "  </tbody>\n",
              "</table>\n",
              "</div>"
            ],
            "text/plain": [
              "   polarity  ...                                               text\n",
              "0         0  ...  @switchfoot http://twitpic.com/2y1zl - Awww, t...\n",
              "1         0  ...  is upset that he can't update his Facebook by ...\n",
              "\n",
              "[2 rows x 6 columns]"
            ]
          },
          "metadata": {
            "tags": []
          },
          "execution_count": 8
        }
      ]
    },
    {
      "cell_type": "code",
      "metadata": {
        "colab": {
          "base_uri": "https://localhost:8080/",
          "height": 111
        },
        "id": "1guZHRA4GW3s",
        "outputId": "a2465ddc-ab0a-407b-bbaf-5186bc233ca8"
      },
      "source": [
        "positive_sample=df[df['polarity'] == 4]\n",
        "positive_sample.iloc[:2]"
      ],
      "execution_count": 9,
      "outputs": [
        {
          "output_type": "execute_result",
          "data": {
            "text/html": [
              "<div>\n",
              "<style scoped>\n",
              "    .dataframe tbody tr th:only-of-type {\n",
              "        vertical-align: middle;\n",
              "    }\n",
              "\n",
              "    .dataframe tbody tr th {\n",
              "        vertical-align: top;\n",
              "    }\n",
              "\n",
              "    .dataframe thead th {\n",
              "        text-align: right;\n",
              "    }\n",
              "</style>\n",
              "<table border=\"1\" class=\"dataframe\">\n",
              "  <thead>\n",
              "    <tr style=\"text-align: right;\">\n",
              "      <th></th>\n",
              "      <th>polarity</th>\n",
              "      <th>id</th>\n",
              "      <th>date</th>\n",
              "      <th>query</th>\n",
              "      <th>user</th>\n",
              "      <th>text</th>\n",
              "    </tr>\n",
              "  </thead>\n",
              "  <tbody>\n",
              "    <tr>\n",
              "      <th>800000</th>\n",
              "      <td>4</td>\n",
              "      <td>1467822272</td>\n",
              "      <td>Mon Apr 06 22:22:45 PDT 2009</td>\n",
              "      <td>NO_QUERY</td>\n",
              "      <td>ersle</td>\n",
              "      <td>I LOVE @Health4UandPets u guys r the best!!</td>\n",
              "    </tr>\n",
              "    <tr>\n",
              "      <th>800001</th>\n",
              "      <td>4</td>\n",
              "      <td>1467822273</td>\n",
              "      <td>Mon Apr 06 22:22:45 PDT 2009</td>\n",
              "      <td>NO_QUERY</td>\n",
              "      <td>becca210</td>\n",
              "      <td>im meeting up with one of my besties tonight! ...</td>\n",
              "    </tr>\n",
              "  </tbody>\n",
              "</table>\n",
              "</div>"
            ],
            "text/plain": [
              "        polarity  ...                                               text\n",
              "800000         4  ...       I LOVE @Health4UandPets u guys r the best!! \n",
              "800001         4  ...  im meeting up with one of my besties tonight! ...\n",
              "\n",
              "[2 rows x 6 columns]"
            ]
          },
          "metadata": {
            "tags": []
          },
          "execution_count": 9
        }
      ]
    },
    {
      "cell_type": "markdown",
      "metadata": {
        "id": "j9DUbxkrFxtX"
      },
      "source": [
        "## Update polarity\n",
        "\n",
        "Right now the `polarity` column is `0` for negative, `4` for positive. Let's change that to `0` and `1` to make things a little more reasonably readable."
      ]
    },
    {
      "cell_type": "code",
      "metadata": {
        "id": "aMzdiXAxFxtY",
        "colab": {
          "base_uri": "https://localhost:8080/"
        },
        "outputId": "074884ff-8fe6-4457-9337-73ad98524aa3"
      },
      "source": [
        "df.polarity.value_counts()"
      ],
      "execution_count": 10,
      "outputs": [
        {
          "output_type": "execute_result",
          "data": {
            "text/plain": [
              "4    800000\n",
              "0    800000\n",
              "Name: polarity, dtype: int64"
            ]
          },
          "metadata": {
            "tags": []
          },
          "execution_count": 10
        }
      ]
    },
    {
      "cell_type": "code",
      "metadata": {
        "id": "FUO1buNaFxtZ",
        "colab": {
          "base_uri": "https://localhost:8080/"
        },
        "outputId": "086e7d74-dc60-40d3-c213-046551b636c8"
      },
      "source": [
        "df.polarity = df.polarity.replace({0: 0, 4: 1})\n",
        "df.polarity.value_counts()"
      ],
      "execution_count": 11,
      "outputs": [
        {
          "output_type": "execute_result",
          "data": {
            "text/plain": [
              "1    800000\n",
              "0    800000\n",
              "Name: polarity, dtype: int64"
            ]
          },
          "metadata": {
            "tags": []
          },
          "execution_count": 11
        }
      ]
    },
    {
      "cell_type": "code",
      "metadata": {
        "colab": {
          "base_uri": "https://localhost:8080/",
          "height": 564
        },
        "id": "hH8MzUDxpLK3",
        "outputId": "2f33f5db-4a1a-4e93-b513-5e91c2aaf451"
      },
      "source": [
        "df1 = df.sort_values('polarity',ascending = False).head(2)\n",
        "print (df1)\n",
        "df1 = df.sort_values('polarity',ascending = True).head(2)\n",
        "print (df1)\n",
        "\n",
        "sns.set(style = \"darkgrid\" , font_scale = 1.2)\n",
        "sns.countplot(df.polarity)"
      ],
      "execution_count": 12,
      "outputs": [
        {
          "output_type": "stream",
          "text": [
            "         polarity  ...                                               text\n",
            "800000          1  ...       I LOVE @Health4UandPets u guys r the best!! \n",
            "1066651         1  ...  Speaking of texts NO MORE TEXTING TIL JUNE 11....\n",
            "\n",
            "[2 rows x 6 columns]\n",
            "        polarity  ...                                               text\n",
            "0              0  ...  @switchfoot http://twitpic.com/2y1zl - Awww, t...\n",
            "533328         0  ...  @Barber_21  i've never ever played an instrume...\n",
            "\n",
            "[2 rows x 6 columns]\n"
          ],
          "name": "stdout"
        },
        {
          "output_type": "stream",
          "text": [
            "/usr/local/lib/python3.7/dist-packages/seaborn/_decorators.py:43: FutureWarning:\n",
            "\n",
            "Pass the following variable as a keyword arg: x. From version 0.12, the only valid positional argument will be `data`, and passing other arguments without an explicit keyword will result in an error or misinterpretation.\n",
            "\n"
          ],
          "name": "stderr"
        },
        {
          "output_type": "execute_result",
          "data": {
            "text/plain": [
              "<matplotlib.axes._subplots.AxesSubplot at 0x7fe9a260c4d0>"
            ]
          },
          "metadata": {
            "tags": []
          },
          "execution_count": 12
        },
        {
          "output_type": "display_data",
          "data": {
            "image/png": "[encoded data removed]",
            "text/plain": [
              "<Figure size 432x288 with 1 Axes>"
            ]
          },
          "metadata": {
            "tags": []
          }
        }
      ]
    },
    {
      "cell_type": "markdown",
      "metadata": {
        "id": "y7t-tr-MpgiO"
      },
      "source": [
        "**SO, WE CAN SEE THAT THE DATASET IS BALANCED**"
      ]
    },
    {
      "cell_type": "code",
      "metadata": {
        "colab": {
          "base_uri": "https://localhost:8080/"
        },
        "id": "S2q2vmV3pdUG",
        "outputId": "21b12e65-ee84-49fb-b009-e5a90f887b04"
      },
      "source": [
        "np.sum(df.isnull().any(axis=1))"
      ],
      "execution_count": 13,
      "outputs": [
        {
          "output_type": "execute_result",
          "data": {
            "text/plain": [
              "0"
            ]
          },
          "metadata": {
            "tags": []
          },
          "execution_count": 13
        }
      ]
    },
    {
      "cell_type": "markdown",
      "metadata": {
        "id": "u0laEfrtFxtb"
      },
      "source": [
        "## DATA PREPARATION"
      ]
    },
    {
      "cell_type": "markdown",
      "metadata": {
        "id": "MyZzx9FwAeS3"
      },
      "source": [
        "> remove unwanted columns"
      ]
    },
    {
      "cell_type": "code",
      "metadata": {
        "id": "J_gwaijSFxtc",
        "colab": {
          "base_uri": "https://localhost:8080/",
          "height": 204
        },
        "outputId": "b6876a63-8708-4100-80f6-72deac53f40c"
      },
      "source": [
        "df = df.drop(columns=['id', 'date', 'query', 'user'],axis=1)\n",
        "df.head()"
      ],
      "execution_count": 14,
      "outputs": [
        {
          "output_type": "execute_result",
          "data": {
            "text/html": [
              "<div>\n",
              "<style scoped>\n",
              "    .dataframe tbody tr th:only-of-type {\n",
              "        vertical-align: middle;\n",
              "    }\n",
              "\n",
              "    .dataframe tbody tr th {\n",
              "        vertical-align: top;\n",
              "    }\n",
              "\n",
              "    .dataframe thead th {\n",
              "        text-align: right;\n",
              "    }\n",
              "</style>\n",
              "<table border=\"1\" class=\"dataframe\">\n",
              "  <thead>\n",
              "    <tr style=\"text-align: right;\">\n",
              "      <th></th>\n",
              "      <th>polarity</th>\n",
              "      <th>text</th>\n",
              "    </tr>\n",
              "  </thead>\n",
              "  <tbody>\n",
              "    <tr>\n",
              "      <th>0</th>\n",
              "      <td>0</td>\n",
              "      <td>@switchfoot http://twitpic.com/2y1zl - Awww, t...</td>\n",
              "    </tr>\n",
              "    <tr>\n",
              "      <th>1</th>\n",
              "      <td>0</td>\n",
              "      <td>is upset that he can't update his Facebook by ...</td>\n",
              "    </tr>\n",
              "    <tr>\n",
              "      <th>2</th>\n",
              "      <td>0</td>\n",
              "      <td>@Kenichan I dived many times for the ball. Man...</td>\n",
              "    </tr>\n",
              "    <tr>\n",
              "      <th>3</th>\n",
              "      <td>0</td>\n",
              "      <td>my whole body feels itchy and like its on fire</td>\n",
              "    </tr>\n",
              "    <tr>\n",
              "      <th>4</th>\n",
              "      <td>0</td>\n",
              "      <td>@nationwideclass no, it's not behaving at all....</td>\n",
              "    </tr>\n",
              "  </tbody>\n",
              "</table>\n",
              "</div>"
            ],
            "text/plain": [
              "   polarity                                               text\n",
              "0         0  @switchfoot http://twitpic.com/2y1zl - Awww, t...\n",
              "1         0  is upset that he can't update his Facebook by ...\n",
              "2         0  @Kenichan I dived many times for the ball. Man...\n",
              "3         0    my whole body feels itchy and like its on fire \n",
              "4         0  @nationwideclass no, it's not behaving at all...."
            ]
          },
          "metadata": {
            "tags": []
          },
          "execution_count": 14
        }
      ]
    },
    {
      "cell_type": "markdown",
      "metadata": {
        "id": "08X_PhDfAc2i"
      },
      "source": [
        "> Making statement text in lower case"
      ]
    },
    {
      "cell_type": "code",
      "metadata": {
        "colab": {
          "base_uri": "https://localhost:8080/"
        },
        "id": "75wJkh_Uv_s9",
        "outputId": "15c16efa-3b2f-41fb-fb0d-db5142ac9964"
      },
      "source": [
        "df['text']=df['text'].str.lower()\n",
        "df['text'].tail()"
      ],
      "execution_count": 15,
      "outputs": [
        {
          "output_type": "execute_result",
          "data": {
            "text/plain": [
              "1599995    just woke up. having no school is the best fee...\n",
              "1599996    thewdb.com - very cool to hear old walt interv...\n",
              "1599997    are you ready for your mojo makeover? ask me f...\n",
              "1599998    happy 38th birthday to my boo of alll time!!! ...\n",
              "1599999    happy #charitytuesday @thenspcc @sparkscharity...\n",
              "Name: text, dtype: object"
            ]
          },
          "metadata": {
            "tags": []
          },
          "execution_count": 15
        }
      ]
    },
    {
      "cell_type": "markdown",
      "metadata": {
        "id": "RkZ1W8k5AsoW"
      },
      "source": [
        "> Cleaning and removing Stop words of english"
      ]
    },
    {
      "cell_type": "code",
      "metadata": {
        "colab": {
          "base_uri": "https://localhost:8080/"
        },
        "id": "S_xYOZT_Anv9",
        "outputId": "80adf68e-f0fd-4d7a-a59c-51cbb4063dc4"
      },
      "source": [
        "import nltk\n",
        "nltk.download('stopwords')\n",
        "stopwords_list = stopwords.words('english')"
      ],
      "execution_count": 16,
      "outputs": [
        {
          "output_type": "stream",
          "text": [
            "[nltk_data] Downloading package stopwords to /root/nltk_data...\n",
            "[nltk_data]   Unzipping corpora/stopwords.zip.\n"
          ],
          "name": "stdout"
        }
      ]
    },
    {
      "cell_type": "code",
      "metadata": {
        "colab": {
          "base_uri": "https://localhost:8080/",
          "height": 137
        },
        "id": "jbJESjk6BBcP",
        "outputId": "13ed3152-57de-46ce-99b8-1975d87c8635"
      },
      "source": [
        "from nltk.corpus import stopwords\n",
        "\", \".join(stopwords.words('english'))"
      ],
      "execution_count": 17,
      "outputs": [
        {
          "output_type": "execute_result",
          "data": {
            "application/vnd.google.colaboratory.intrinsic+json": {
              "type": "string"
            },
            "text/plain": [
              "\"i, me, my, myself, we, our, ours, ourselves, you, you're, you've, you'll, you'd, your, yours, yourself, yourselves, he, him, his, himself, she, she's, her, hers, herself, it, it's, its, itself, they, them, their, theirs, themselves, what, which, who, whom, this, that, that'll, these, those, am, is, are, was, were, be, been, being, have, has, had, having, do, does, did, doing, a, an, the, and, but, if, or, because, as, until, while, of, at, by, for, with, about, against, between, into, through, during, before, after, above, below, to, from, up, down, in, out, on, off, over, under, again, further, then, once, here, there, when, where, why, how, all, any, both, each, few, more, most, other, some, such, no, nor, not, only, own, same, so, than, too, very, s, t, can, will, just, don, don't, should, should've, now, d, ll, m, o, re, ve, y, ain, aren, aren't, couldn, couldn't, didn, didn't, doesn, doesn't, hadn, hadn't, hasn, hasn't, haven, haven't, isn, isn't, ma, mightn, mightn't, mustn, mustn't, needn, needn't, shan, shan't, shouldn, shouldn't, wasn, wasn't, weren, weren't, won, won't, wouldn, wouldn't\""
            ]
          },
          "metadata": {
            "tags": []
          },
          "execution_count": 17
        }
      ]
    },
    {
      "cell_type": "markdown",
      "metadata": {
        "id": "z_OVX75_A-PV"
      },
      "source": [
        "> Cleaning and removing the above stop words list from the tweet text\n"
      ]
    },
    {
      "cell_type": "code",
      "metadata": {
        "colab": {
          "base_uri": "https://localhost:8080/"
        },
        "id": "-E3e3h0zBIM9",
        "outputId": "b9410110-c086-41cf-e9e4-eb59cbfcc888"
      },
      "source": [
        "STOPWORDS = set(stopwords.words('english'))\n",
        "def cleaning_stopwords(text):\n",
        "    return \" \".join([word for word in str(text).split() if word not in STOPWORDS])\n",
        "df['text'] = df['text'].apply(lambda text: cleaning_stopwords(text))\n",
        "df['text'].head()"
      ],
      "execution_count": 18,
      "outputs": [
        {
          "output_type": "execute_result",
          "data": {
            "text/plain": [
              "0    @switchfoot http://twitpic.com/2y1zl - awww, t...\n",
              "1    upset can't update facebook texting it... migh...\n",
              "2    @kenichan dived many times ball. managed save ...\n",
              "3                     whole body feels itchy like fire\n",
              "4    @nationwideclass no, behaving all. i'm mad. he...\n",
              "Name: text, dtype: object"
            ]
          },
          "metadata": {
            "tags": []
          },
          "execution_count": 18
        }
      ]
    },
    {
      "cell_type": "markdown",
      "metadata": {
        "id": "FSIABY6UBPNB"
      },
      "source": [
        "> Cleaning and removing punctuations"
      ]
    },
    {
      "cell_type": "code",
      "metadata": {
        "id": "7j1pGsQXBQXU"
      },
      "source": [
        "english_punctuations = string.punctuation\n",
        "punctuations_list = english_punctuations\n",
        "def cleaning_punctuations(text):\n",
        "    translator = str.maketrans('', '', punctuations_list)\n",
        "    return text.translate(translator)"
      ],
      "execution_count": 19,
      "outputs": []
    },
    {
      "cell_type": "code",
      "metadata": {
        "colab": {
          "base_uri": "https://localhost:8080/"
        },
        "id": "BIzF7dIIBSM3",
        "outputId": "06046fd7-6d3b-4234-87f8-2cde91b7c5f7"
      },
      "source": [
        "df['text']= df['text'].apply(lambda x: cleaning_punctuations(x))\n",
        "df['text'].tail()"
      ],
      "execution_count": 20,
      "outputs": [
        {
          "output_type": "execute_result",
          "data": {
            "text/plain": [
              "1599995                     woke up school best feeling ever\n",
              "1599996    thewdbcom  cool hear old walt interviews â« h...\n",
              "1599997                      ready mojo makeover ask details\n",
              "1599998    happy 38th birthday boo alll time tupac amaru ...\n",
              "1599999    happy charitytuesday thenspcc sparkscharity sp...\n",
              "Name: text, dtype: object"
            ]
          },
          "metadata": {
            "tags": []
          },
          "execution_count": 20
        }
      ]
    },
    {
      "cell_type": "markdown",
      "metadata": {
        "id": "Xz7G6mVEBWZR"
      },
      "source": [
        "> Cleaning and removing repeating characters"
      ]
    },
    {
      "cell_type": "code",
      "metadata": {
        "colab": {
          "base_uri": "https://localhost:8080/"
        },
        "id": "HGVnb362BWoC",
        "outputId": "afc746f4-87f8-4fa5-c050-724c17c06327"
      },
      "source": [
        "def cleaning_repeating_char(text):\n",
        "    return re.sub(r'(.)\\1+', r'\\1', text)\n",
        "\n",
        "df['text'] = df['text'].apply(lambda x: cleaning_repeating_char(x))\n",
        "df['text'].tail()"
      ],
      "execution_count": 21,
      "outputs": [
        {
          "output_type": "execute_result",
          "data": {
            "text/plain": [
              "1599995                       woke up schol best feling ever\n",
              "1599996    thewdbcom col hear old walt interviews â« htp...\n",
              "1599997                      ready mojo makeover ask details\n",
              "1599998     hapy 38th birthday bo al time tupac amaru shakur\n",
              "1599999    hapy charitytuesday thenspc sparkscharity spea...\n",
              "Name: text, dtype: object"
            ]
          },
          "metadata": {
            "tags": []
          },
          "execution_count": 21
        }
      ]
    },
    {
      "cell_type": "markdown",
      "metadata": {
        "id": "szstVMi6BfDh"
      },
      "source": [
        "> Cleaning and removing email"
      ]
    },
    {
      "cell_type": "code",
      "metadata": {
        "colab": {
          "base_uri": "https://localhost:8080/"
        },
        "id": "VLOQ0P_6BfNk",
        "outputId": "793d6245-4a88-480a-ac02-35944b2ce38f"
      },
      "source": [
        "def cleaning_email(data):\n",
        "    return re.sub('@[^\\s]+', ' ', data)\n",
        "\n",
        "df['text']= df['text'].apply(lambda x: cleaning_email(x))\n",
        "df['text'].tail()"
      ],
      "execution_count": 22,
      "outputs": [
        {
          "output_type": "execute_result",
          "data": {
            "text/plain": [
              "1599995                       woke up schol best feling ever\n",
              "1599996    thewdbcom col hear old walt interviews â« htp...\n",
              "1599997                      ready mojo makeover ask details\n",
              "1599998     hapy 38th birthday bo al time tupac amaru shakur\n",
              "1599999    hapy charitytuesday thenspc sparkscharity spea...\n",
              "Name: text, dtype: object"
            ]
          },
          "metadata": {
            "tags": []
          },
          "execution_count": 22
        }
      ]
    },
    {
      "cell_type": "markdown",
      "metadata": {
        "id": "64hLLHAGBo6T"
      },
      "source": [
        "> Cleaning and removing URL's"
      ]
    },
    {
      "cell_type": "code",
      "metadata": {
        "colab": {
          "base_uri": "https://localhost:8080/"
        },
        "id": "FQ0igrVKBpDp",
        "outputId": "35e71447-80dd-4076-a3a1-f3ef1774e6b7"
      },
      "source": [
        "def cleaning_URLs(data):\n",
        "    return re.sub('((www\\.[^\\s]+)|(https?://[^\\s]+))',' ',data)\n",
        "\n",
        "df['text'] = df['text'].apply(lambda x: cleaning_URLs(x))\n",
        "df['text'].tail()"
      ],
      "execution_count": 23,
      "outputs": [
        {
          "output_type": "execute_result",
          "data": {
            "text/plain": [
              "1599995                       woke up schol best feling ever\n",
              "1599996    thewdbcom col hear old walt interviews â« htp...\n",
              "1599997                      ready mojo makeover ask details\n",
              "1599998     hapy 38th birthday bo al time tupac amaru shakur\n",
              "1599999    hapy charitytuesday thenspc sparkscharity spea...\n",
              "Name: text, dtype: object"
            ]
          },
          "metadata": {
            "tags": []
          },
          "execution_count": 23
        }
      ]
    },
    {
      "cell_type": "markdown",
      "metadata": {
        "id": "13omvuy0BvYa"
      },
      "source": [
        "> Cleaning and removing Numeric numbers"
      ]
    },
    {
      "cell_type": "code",
      "metadata": {
        "colab": {
          "base_uri": "https://localhost:8080/"
        },
        "id": "WmxWlN_3BvgV",
        "outputId": "13b5fd49-0ae1-48a2-853a-63c82352f458"
      },
      "source": [
        "def cleaning_numbers(data):\n",
        "    return re.sub('[0-9]+', '', data)\n",
        "\n",
        "df['text'] = df['text'].apply(lambda x: cleaning_numbers(x))\n",
        "df['text'].tail()"
      ],
      "execution_count": 24,
      "outputs": [
        {
          "output_type": "execute_result",
          "data": {
            "text/plain": [
              "1599995                       woke up schol best feling ever\n",
              "1599996    thewdbcom col hear old walt interviews â« htp...\n",
              "1599997                      ready mojo makeover ask details\n",
              "1599998       hapy th birthday bo al time tupac amaru shakur\n",
              "1599999    hapy charitytuesday thenspc sparkscharity spea...\n",
              "Name: text, dtype: object"
            ]
          },
          "metadata": {
            "tags": []
          },
          "execution_count": 24
        }
      ]
    },
    {
      "cell_type": "markdown",
      "metadata": {
        "id": "mZx0JE1ACRIm"
      },
      "source": [
        "# **Data Pre-processing**"
      ]
    },
    {
      "cell_type": "code",
      "metadata": {
        "colab": {
          "base_uri": "https://localhost:8080/"
        },
        "id": "sJOlXhBDCTQ5",
        "outputId": "aea6343d-cd0f-4600-ec87-1ecb94dca7c8"
      },
      "source": [
        "hub_layer = hub.KerasLayer(\"https://tfhub.dev/google/nnlm-en-dim128/2\",input_shape=[],dtype=tf.string)\n",
        "model = keras.Sequential()\n",
        "model.add(hub_layer)\n",
        "model.add(keras.layers.Dense(16, activation='relu'))\n",
        "model.add(keras.layers.Dense(1, activation='sigmoid'))\n",
        "model.summary()"
      ],
      "execution_count": 25,
      "outputs": [
        {
          "output_type": "stream",
          "text": [
            "Model: \"sequential\"\n",
            "_________________________________________________________________\n",
            "Layer (type)                 Output Shape              Param #   \n",
            "=================================================================\n",
            "keras_layer (KerasLayer)     (None, 128)               124642688 \n",
            "_________________________________________________________________\n",
            "dense (Dense)                (None, 16)                2064      \n",
            "_________________________________________________________________\n",
            "dense_1 (Dense)              (None, 1)                 17        \n",
            "=================================================================\n",
            "Total params: 124,644,769\n",
            "Trainable params: 2,081\n",
            "Non-trainable params: 124,642,688\n",
            "_________________________________________________________________\n"
          ],
          "name": "stdout"
        }
      ]
    },
    {
      "cell_type": "code",
      "metadata": {
        "id": "dcehJCysCiCw"
      },
      "source": [
        "df = df.sample(n=100000) # select 100k value because of machine resource constraint \n",
        "df.polarity.value_counts()\n",
        "\n",
        "df.to_csv(\"data/sentiment140-subset.csv\", index=False)"
      ],
      "execution_count": 26,
      "outputs": []
    },
    {
      "cell_type": "code",
      "metadata": {
        "id": "yF15AryMC8DJ"
      },
      "source": [
        "X=df.text\n",
        "y=df.polarity"
      ],
      "execution_count": 27,
      "outputs": []
    },
    {
      "cell_type": "markdown",
      "metadata": {
        "id": "uWN2-XEcD9Uu"
      },
      "source": [
        "> Convert sentences to sequences"
      ]
    },
    {
      "cell_type": "code",
      "metadata": {
        "id": "c04hIhXyDheS"
      },
      "source": [
        "max_len = 500\n",
        "tok = Tokenizer(num_words=2000)\n",
        "tok.fit_on_texts(X)\n",
        "sequences = tok.texts_to_sequences(X)\n",
        "sequences_matrix = sequence.pad_sequences(sequences,maxlen=max_len)"
      ],
      "execution_count": 28,
      "outputs": []
    },
    {
      "cell_type": "code",
      "metadata": {
        "colab": {
          "base_uri": "https://localhost:8080/"
        },
        "id": "EnFQFEpJEJMw",
        "outputId": "dc627b38-e23b-4e04-e83a-e1d733c655dd"
      },
      "source": [
        "sequences_matrix.shape"
      ],
      "execution_count": 29,
      "outputs": [
        {
          "output_type": "execute_result",
          "data": {
            "text/plain": [
              "(100000, 500)"
            ]
          },
          "metadata": {
            "tags": []
          },
          "execution_count": 29
        }
      ]
    },
    {
      "cell_type": "code",
      "metadata": {
        "colab": {
          "base_uri": "https://localhost:8080/"
        },
        "id": "1EgH_v8-ENcg",
        "outputId": "0812dafd-e307-40c8-c3e4-dea750032c35"
      },
      "source": [
        "X_train, X_test, Y_train, Y_test = train_test_split(sequences_matrix, y, test_size=0.3, random_state=2)\n",
        "X_train.shape, X_test.shape, Y_train.shape, Y_test.shape"
      ],
      "execution_count": 30,
      "outputs": [
        {
          "output_type": "execute_result",
          "data": {
            "text/plain": [
              "((70000, 500), (30000, 500), (70000,), (30000,))"
            ]
          },
          "metadata": {
            "tags": []
          },
          "execution_count": 30
        }
      ]
    },
    {
      "cell_type": "markdown",
      "metadata": {
        "id": "Kk_d-t1_6D_w"
      },
      "source": [
        "# **Model Building with hyperparameter tuning and without kernel_regularizer**"
      ]
    },
    {
      "cell_type": "code",
      "metadata": {
        "colab": {
          "base_uri": "https://localhost:8080/"
        },
        "id": "_-3LAkfr6IbI",
        "outputId": "9ca212f8-0933-436f-808c-62201301d853"
      },
      "source": [
        "def tensorflow_based_model(): #Defined tensorflow_based_model function for training tenforflow based model\n",
        "    inputs = Input(name='inputs',shape=[max_len])#step1\n",
        "    layer = Embedding(2000,50,input_length=max_len)(inputs) #step2\n",
        "    layer = LSTM(64)(layer) #step3\n",
        "    layer = Dense(256,name='FC1')(layer) #step4\n",
        "    layer = Activation('relu')(layer) # step5\n",
        "    layer = Dropout(0.5)(layer) # step6\n",
        "    layer = Dense(1,name='out_layer')(layer) #step4 again but this time its giving only one output as because we need to classify the tweet as positive or negative\n",
        "    layer = Activation('sigmoid')(layer) #step5 but this time activation function is sigmoid for only one output.\n",
        "    model = Model(inputs=inputs,outputs=layer) #here we are getting the final output value in the model for classification\n",
        "    return model #function returning the value when we call it\n",
        "\n",
        "model_without_reg = tensorflow_based_model() # here we are calling the function of created model\n",
        "model_without_reg.compile(loss='binary_crossentropy',optimizer=RMSprop(),metrics=['accuracy'])  \n",
        "\n",
        "print('Training model...')\n",
        "from time import time\n",
        "start = time()\n",
        "history = model_without_reg.fit(X_train,Y_train,batch_size=80,epochs=6,validation_data=(X_test, Y_test))\n",
        "print('Training duration is :')\n",
        "print(time()-start)\n",
        "print('Training finished !!')"
      ],
      "execution_count": 31,
      "outputs": [
        {
          "output_type": "stream",
          "text": [
            "Training model...\n",
            "Epoch 1/6\n",
            "875/875 [==============================] - 338s 385ms/step - loss: 0.5774 - accuracy: 0.6829 - val_loss: 0.5020 - val_accuracy: 0.7545\n",
            "Epoch 2/6\n",
            "875/875 [==============================] - 353s 404ms/step - loss: 0.4924 - accuracy: 0.7636 - val_loss: 0.4964 - val_accuracy: 0.7574\n",
            "Epoch 3/6\n",
            "875/875 [==============================] - 363s 415ms/step - loss: 0.5005 - accuracy: 0.7538 - val_loss: 0.4938 - val_accuracy: 0.7573\n",
            "Epoch 4/6\n",
            "875/875 [==============================] - 343s 392ms/step - loss: 0.4744 - accuracy: 0.7690 - val_loss: 0.4970 - val_accuracy: 0.7584\n",
            "Epoch 5/6\n",
            "875/875 [==============================] - 360s 412ms/step - loss: 0.4697 - accuracy: 0.7735 - val_loss: 0.5531 - val_accuracy: 0.7435\n",
            "Epoch 6/6\n",
            "875/875 [==============================] - 359s 410ms/step - loss: 0.5132 - accuracy: 0.7542 - val_loss: 0.4954 - val_accuracy: 0.7587\n",
            "Training duration is :\n",
            "2116.9596033096313\n",
            "Training finished !!\n"
          ],
          "name": "stdout"
        }
      ]
    },
    {
      "cell_type": "code",
      "metadata": {
        "colab": {
          "base_uri": "https://localhost:8080/"
        },
        "id": "50R1GrVl6IqX",
        "outputId": "95653690-6740-43da-95bc-57955f2a78a5"
      },
      "source": [
        "accr_without_reg = model_without_reg.evaluate(X_test,Y_test) \n",
        "print('Test set\\n  Accuracy: {:0.2f}'.format(accr_without_reg[1])) #the accuracy of the model on test data is given below"
      ],
      "execution_count": 32,
      "outputs": [
        {
          "output_type": "stream",
          "text": [
            "938/938 [==============================] - 59s 62ms/step - loss: 0.4954 - accuracy: 0.7587\n",
            "Test set\n",
            "  Accuracy: 0.76\n"
          ],
          "name": "stdout"
        }
      ]
    },
    {
      "cell_type": "markdown",
      "metadata": {
        "id": "Ax-22Tk9ENsD"
      },
      "source": [
        "# **Model Building with hyperparameter tuning with kernel_regularizer**"
      ]
    },
    {
      "cell_type": "code",
      "metadata": {
        "id": "6GOzrR9YJDGP"
      },
      "source": [
        "# in out first run we got 384 as no of hidden units\n",
        "def model_builder(hp):\n",
        "  model = keras.Sequential()\n",
        "  model.add(keras.layers.Input(name='inputs',shape=[max_len]))\n",
        "  model.add(keras.layers.Embedding(2000,50,input_length=max_len))\n",
        "  model.add(keras.layers.LSTM(64))\n",
        "  model.add(keras.layers.Dense(256,kernel_regularizer='l2'))\n",
        "  model.add(keras.layers.Activation('relu'))\n",
        "  hp_dropout_rate = hp.Choice('dropout_rate', values=[0.1, 0.2, 0.3, 0.4, 0.5])\n",
        "  model.add(keras.layers.Dropout(hp_dropout_rate))\n",
        "  model.add(keras.layers.Dense(1,name='out_layer'))\n",
        "  model.add(keras.layers.Activation('sigmoid'))\n",
        "\n",
        "  # Tune the learning rate for the optimizer\n",
        "  # Choose an optimal value from 0.01, 0.001, or 0.0001\n",
        "  hp_learning_rate = hp.Choice('learning_rate', values=[1e-2, 1e-3, 1e-4])\n",
        "\n",
        "  model.compile(optimizer=keras.optimizers.RMSprop(learning_rate=hp_learning_rate),\n",
        "                loss='categorical_crossentropy',\n",
        "                metrics=['accuracy'])\n",
        "\n",
        "  return model"
      ],
      "execution_count": 33,
      "outputs": []
    },
    {
      "cell_type": "markdown",
      "metadata": {
        "id": "ixbJwcotEY8R"
      },
      "source": [
        "# **Model Compilation**"
      ]
    },
    {
      "cell_type": "code",
      "metadata": {
        "colab": {
          "base_uri": "https://localhost:8080/"
        },
        "id": "nR0txx1xEbEP",
        "outputId": "aaad1e3a-6e06-442f-e550-a08fd52894aa"
      },
      "source": [
        "tuner = kt.Hyperband(model_builder,\n",
        "                     objective='val_accuracy',\n",
        "                     max_epochs=30,\n",
        "                     hyperband_iterations=2)\n",
        "\n",
        "tuner.search(X_train,Y_train,\n",
        "             validation_data=(X_test, Y_test),\n",
        "             epochs=30,batch_size=80,\n",
        "             callbacks=[tf.keras.callbacks.EarlyStopping(patience=1)])\n",
        "\n",
        "best_hps=tuner.get_best_hyperparameters(num_trials=1)[0]\n"
      ],
      "execution_count": 34,
      "outputs": [
        {
          "output_type": "stream",
          "text": [
            "Trial 14 Complete [00h 12m 34s]\n",
            "val_accuracy: 0.5039666891098022\n",
            "\n",
            "Best val_accuracy So Far: 0.5039666891098022\n",
            "Total elapsed time: 02h 53m 16s\n",
            "INFO:tensorflow:Oracle triggered exit\n"
          ],
          "name": "stdout"
        },
        {
          "output_type": "stream",
          "text": [
            "INFO:tensorflow:Oracle triggered exit\n"
          ],
          "name": "stderr"
        }
      ]
    },
    {
      "cell_type": "code",
      "metadata": {
        "colab": {
          "base_uri": "https://localhost:8080/"
        },
        "id": "H3KolQ2KMX1N",
        "outputId": "8ff1d624-77b5-48c2-dc3a-8e4b24dca638"
      },
      "source": [
        "print(f\"\"\"\n",
        "The hyperparameter search is complete. \n",
        "the optimal learning rate for the optimizer\n",
        "is {best_hps.get('learning_rate')} and value of \n",
        "dropout in hidden layer is {best_hps.get('dropout_rate')}.\n",
        "\"\"\")"
      ],
      "execution_count": 35,
      "outputs": [
        {
          "output_type": "stream",
          "text": [
            "\n",
            "The hyperparameter search is complete. \n",
            "the optimal learning rate for the optimizer\n",
            "is 0.001 and value of \n",
            "dropout in hidden layer is 0.2.\n",
            "\n"
          ],
          "name": "stdout"
        }
      ]
    },
    {
      "cell_type": "markdown",
      "metadata": {
        "id": "f8bGdkOXEfCs"
      },
      "source": [
        "# **Model Training**"
      ]
    },
    {
      "cell_type": "code",
      "metadata": {
        "colab": {
          "base_uri": "https://localhost:8080/"
        },
        "id": "ikAQiSJYEgp2",
        "outputId": "87dcf61d-a3c2-4524-b1d4-32a9c80dabf7"
      },
      "source": [
        "print('Training model...')\n",
        "from time import time\n",
        "\n",
        "start = time()\n",
        "\n",
        "model = tuner.hypermodel.build(best_hps)\n",
        "history_2 = model.fit(X_train,Y_train,batch_size=80,epochs=6,validation_data=(X_test, Y_test))\n",
        "\n",
        "print('Training duration is :')\n",
        "print(time()-start)\n",
        "print('Training finished !!')"
      ],
      "execution_count": 46,
      "outputs": [
        {
          "output_type": "stream",
          "text": [
            "Training model...\n",
            "Epoch 1/6\n",
            "875/875 [==============================] - 369s 419ms/step - loss: 8.7612 - accuracy: 0.5012 - val_loss: 73.9582 - val_accuracy: 0.5040\n",
            "Epoch 2/6\n",
            "875/875 [==============================] - 367s 420ms/step - loss: 118.9586 - accuracy: 0.5004 - val_loss: 296.0261 - val_accuracy: 0.5040\n",
            "Epoch 3/6\n",
            "875/875 [==============================] - 364s 416ms/step - loss: 379.5920 - accuracy: 0.5019 - val_loss: 673.5745 - val_accuracy: 0.5040\n",
            "Epoch 4/6\n",
            "875/875 [==============================] - 365s 417ms/step - loss: 797.0202 - accuracy: 0.5031 - val_loss: 1212.9230 - val_accuracy: 0.5040\n",
            "Epoch 5/6\n",
            "875/875 [==============================] - 364s 416ms/step - loss: 1377.4941 - accuracy: 0.5025 - val_loss: 1918.2136 - val_accuracy: 0.5040\n",
            "Epoch 6/6\n",
            "875/875 [==============================] - 366s 419ms/step - loss: 2124.9833 - accuracy: 0.4996 - val_loss: 2792.6917 - val_accuracy: 0.5040\n",
            "Training duration is :\n",
            "2195.967384815216\n",
            "Training finished !!\n"
          ],
          "name": "stdout"
        }
      ]
    },
    {
      "cell_type": "markdown",
      "metadata": {
        "id": "hqomH8iKEjcQ"
      },
      "source": [
        "# **Model Evaluation**"
      ]
    },
    {
      "cell_type": "code",
      "metadata": {
        "colab": {
          "base_uri": "https://localhost:8080/"
        },
        "id": "Exqgq4vq3W7k",
        "outputId": "cac932c5-d596-48fb-e55d-e458a22c9f3f"
      },
      "source": [
        "accr1 = model.evaluate(X_test,Y_test) \n",
        "print('Test set\\n  Accuracy: {:0.2f}'.format(accr1[1])) #the accuracy of the model on test data is given below"
      ],
      "execution_count": 47,
      "outputs": [
        {
          "output_type": "stream",
          "text": [
            "938/938 [==============================] - 59s 63ms/step - loss: 2792.6743 - accuracy: 0.5040\n",
            "Test set\n",
            "  Accuracy: 0.50\n"
          ],
          "name": "stdout"
        }
      ]
    },
    {
      "cell_type": "markdown",
      "metadata": {
        "id": "x2nXQqc03nFb"
      },
      "source": [
        "# **Prediction**\n",
        "\n",
        "As the model give probabilties so we are setting a threshold 0.5. More than 0.5 will be the positive tweets and lower will be negative tweets"
      ]
    },
    {
      "cell_type": "code",
      "metadata": {
        "id": "6zvSCv-I3rkw"
      },
      "source": [
        "y_pred = model.predict(X_test) #getting predictions on the trained model\n",
        "y_pred = (y_pred > 0.5) "
      ],
      "execution_count": 48,
      "outputs": []
    },
    {
      "cell_type": "markdown",
      "metadata": {
        "id": "TBxw9vFE3XOK"
      },
      "source": [
        "# **Plot accuracy**"
      ]
    },
    {
      "cell_type": "code",
      "metadata": {
        "id": "S80zTN6oIuuC"
      },
      "source": [
        "import matplotlib.pyplot as plt"
      ],
      "execution_count": 49,
      "outputs": []
    },
    {
      "cell_type": "code",
      "metadata": {
        "colab": {
          "base_uri": "https://localhost:8080/",
          "height": 505
        },
        "id": "ig6T6FuhEmlp",
        "outputId": "9449abd3-5463-45fd-b922-7907edfe34ad"
      },
      "source": [
        "acc = history.history['accuracy']\n",
        "val_acc = history.history['val_accuracy']\n",
        "\n",
        "loss = history.history['loss']\n",
        "val_loss = history.history['val_loss']\n",
        "\n",
        "epochs_range = range(6)\n",
        "\n",
        "plt.figure(figsize=(8, 8))\n",
        "plt.subplot(1, 2, 1)\n",
        "plt.plot(epochs_range, acc, label='Training Accuracy')\n",
        "plt.plot(epochs_range, val_acc, label='Validation Accuracy')\n",
        "plt.legend(loc='lower right')\n",
        "plt.title('Training and Validation Accuracy')\n",
        "\n",
        "plt.subplot(1, 2, 2)\n",
        "plt.plot(epochs_range, loss, label='Training Loss')\n",
        "plt.plot(epochs_range, val_loss, label='Validation Loss')\n",
        "plt.legend(loc='upper right')\n",
        "plt.title('Training and Validation Loss')\n",
        "plt.show()"
      ],
      "execution_count": 51,
      "outputs": [
        {
          "output_type": "display_data",
          "data": {
            "image/png": "[encoded data removed]",
            "text/plain": [
              "<Figure size 576x576 with 2 Axes>"
            ]
          },
          "metadata": {
            "tags": []
          }
        }
      ]
    },
    {
      "cell_type": "markdown",
      "metadata": {
        "id": "WY7w0k01Icg9"
      },
      "source": [
        "# **Confusion Metrics**"
      ]
    },
    {
      "cell_type": "code",
      "metadata": {
        "colab": {
          "base_uri": "https://localhost:8080/",
          "height": 736
        },
        "id": "vh8u5mQeIf9O",
        "outputId": "eb446edb-1938-4589-ee16-88c11bb4fc85"
      },
      "source": [
        "from mlxtend.plotting import plot_confusion_matrix\n",
        "print('\\n')\n",
        "print(\"confusion matrix\")\n",
        "print('\\n')\n",
        "CR=confusion_matrix(Y_test, y_pred)\n",
        "print(CR)\n",
        "print('\\n')\n",
        "\n",
        "fig, ax = plot_confusion_matrix(conf_mat=CR,figsize=(10, 10),\n",
        "                                show_absolute=True,\n",
        "                                show_normed=True,\n",
        "                                colorbar=True)\n",
        "plt.show()"
      ],
      "execution_count": 41,
      "outputs": [
        {
          "output_type": "stream",
          "text": [
            "\n",
            "\n",
            "confusion matrix\n",
            "\n",
            "\n",
            "[[15119     0]\n",
            " [14881     0]]\n",
            "\n",
            "\n"
          ],
          "name": "stdout"
        },
        {
          "output_type": "display_data",
          "data": {
            "image/png": "[encoded data removed]",
            "text/plain": [
              "<Figure size 720x720 with 2 Axes>"
            ]
          },
          "metadata": {
            "tags": []
          }
        }
      ]
    },
    {
      "cell_type": "markdown",
      "metadata": {
        "id": "rgg64NvYH-XU"
      },
      "source": [
        "# check correctly classified index"
      ]
    },
    {
      "cell_type": "code",
      "metadata": {
        "id": "7DcIjisSIjti"
      },
      "source": [
        "p_test = model.predict(X_test).argmax(axis=1)"
      ],
      "execution_count": 52,
      "outputs": []
    },
    {
      "cell_type": "code",
      "metadata": {
        "colab": {
          "base_uri": "https://localhost:8080/"
        },
        "id": "4Jwvgw37hDwW",
        "outputId": "adb9a3fb-9c6f-4a15-f08e-343a49427ef3"
      },
      "source": [
        "correctly_classified_idx=np.where(p_test == Y_test)[0]\n",
        "print(correctly_classified_idx)"
      ],
      "execution_count": 53,
      "outputs": [
        {
          "output_type": "stream",
          "text": [
            "[    1     2     4 ... 29991 29994 29997]\n"
          ],
          "name": "stdout"
        }
      ]
    },
    {
      "cell_type": "markdown",
      "metadata": {
        "id": "Y_7CWKdiIeNi"
      },
      "source": [
        "# check missclassified index"
      ]
    },
    {
      "cell_type": "code",
      "metadata": {
        "colab": {
          "base_uri": "https://localhost:8080/"
        },
        "id": "MAPm8p-4IhTz",
        "outputId": "97415175-ed65-447d-9ebb-12b5afba724e"
      },
      "source": [
        "misclassified_idx = np.where(p_test != Y_test)[0]\n",
        "print(misclassified_idx)"
      ],
      "execution_count": 54,
      "outputs": [
        {
          "output_type": "stream",
          "text": [
            "[    0     3     6 ... 29996 29998 29999]\n"
          ],
          "name": "stdout"
        }
      ]
    },
    {
      "cell_type": "markdown",
      "metadata": {
        "id": "3DFmbOeRgHkg"
      },
      "source": [
        "**Hyperparameter Tuning**- Build two more models by changing the following hyperparameters one at a time. Write the code for Model Building, Model Compilation, Model Training and Model Evaluation as given in the instructions above for each additional model. (1 + 1 = 2 marks)\n",
        "1. Dropout: Change the position and value of dropout layer\n",
        "2. Regularization: Train a model without regularization"
      ]
    },
    {
      "cell_type": "markdown",
      "metadata": {
        "id": "m9HgwtLcgScG"
      },
      "source": [
        "Answer:\n",
        "\n",
        "The hyperparameter search is complete. \n",
        "the optimal learning rate for the optimizer\n",
        "is 0.001 and value of \n",
        "dropout in hidden layer is 0.2.\n"
      ]
    },
    {
      "cell_type": "markdown",
      "metadata": {
        "id": "lP1Q1cEW7aRv"
      },
      "source": [
        "# Comparison between model with regulization and without regulization"
      ]
    },
    {
      "cell_type": "code",
      "metadata": {
        "colab": {
          "base_uri": "https://localhost:8080/"
        },
        "id": "9p-OUozu7jDt",
        "outputId": "b1a5b61b-4875-4438-9d15-5e50a0e0c59e"
      },
      "source": [
        "print(f'accuracy without regulisation is [test loss, test accuracy] :{accr_without_reg} \\nand\\nwith regulization is [test loss, test accuracy]: {accr1}')"
      ],
      "execution_count": 55,
      "outputs": [
        {
          "output_type": "stream",
          "text": [
            "accuracy without regulisation is [test loss, test accuracy] :[0.49536603689193726, 0.7586666941642761] \n",
            "and\n",
            "with regulization is [test loss, test accuracy]: [2792.67431640625, 0.5039666891098022]\n"
          ],
          "name": "stdout"
        }
      ]
    }
  ]
}